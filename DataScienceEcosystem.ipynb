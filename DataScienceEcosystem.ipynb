{
 "cells": [
  {
   "cell_type": "markdown",
   "id": "09b11beb-69d0-4bbb-bfd4-406f0ecd1903",
   "metadata": {},
   "source": [
    "# Data Science Tools and Ecosystem\n"
   ]
  },
  {
   "cell_type": "markdown",
   "id": "7c35fe17-5c63-4687-be82-7a9506b0d388",
   "metadata": {},
   "source": [
    "## In this notebook, Data Science Tools and Ecosystem are summarized."
   ]
  },
  {
   "cell_type": "markdown",
   "id": "2af5b334-ddd0-46d5-9771-799837c109b7",
   "metadata": {
    "jp-MarkdownHeadingCollapsed": true
   },
   "source": [
    "**Objectives:**\n",
    "\n",
    "- List popular languages for Data Science.\n",
    "- Identify commonly used libraries in Data Science.\n",
    "- Create and format tables in Markdown.\n",
    "- Evaluate arithmetic expressions in Python.\n",
    "- Convert time units (e.g., minutes to hours).\n"
   ]
  },
  {
   "cell_type": "markdown",
   "id": "c7431b6e-93fb-45e2-a511-67acb4728e32",
   "metadata": {},
   "source": [
    "Some of the popular languages that Data Scientists use are:\n",
    "  1. Python\n",
    "  2. R\n",
    "  3. SQL\n",
    "  4. Java\n"
   ]
  },
  {
   "cell_type": "markdown",
   "id": "a5c89809-fdc7-481e-9c1b-03cd7f7d02e8",
   "metadata": {},
   "source": []
  },
  {
   "cell_type": "markdown",
   "id": "f7910bb4-eb1c-4d3e-9a4b-41f1a751d049",
   "metadata": {},
   "source": [
    "Some of the commonly used libraries used by Data Scientists include:\n",
    "1. Pandas\n",
    "2. NumPy\n",
    "3. Matplotlib\n",
    "4. Scikit-learn\n",
    "5. TensorFlow\n",
    "\n"
   ]
  },
  {
   "cell_type": "markdown",
   "id": "760646c4-4716-433c-b8c4-ca1be9d2849e",
   "metadata": {},
   "source": [
    "| Data Science Tools   |\n",
    "|----------------------|\n",
    "| Jupyter Notebook      |\n",
    "| RStudio              |\n",
    "| Apache Zeppelin      |\n"
   ]
  },
  {
   "cell_type": "markdown",
   "id": "ed8258a7-1733-4e27-afa1-2db9b92fe732",
   "metadata": {},
   "source": [
    "# Arithmetic Expression Examples\n",
    "\n",
    "### Below are a few examples of evaluating arithmetic expressions in Python."
   ]
  },
  {
   "cell_type": "code",
   "execution_count": 5,
   "id": "95994daa-05da-4823-a19c-30753b26b7f1",
   "metadata": {},
   "outputs": [
    {
     "data": {
      "text/plain": [
       "17"
      ]
     },
     "execution_count": 5,
     "metadata": {},
     "output_type": "execute_result"
    }
   ],
   "source": [
    "# This a simple arithmetic expression to mutiply then add integers\n",
    "(3*4)+5"
   ]
  },
  {
   "cell_type": "code",
   "execution_count": 8,
   "id": "7b65ce1c-b196-44c5-b08a-b642aaa12e2c",
   "metadata": {},
   "outputs": [
    {
     "name": "stdout",
     "output_type": "stream",
     "text": [
      "200 minutes is equal to 3.3333333333333335 hours.\n"
     ]
    }
   ],
   "source": [
    "# This will convert 200 minutes to hours by diving by 60\n",
    "minutes = 200\n",
    "hours = minutes / 60\n",
    "\n",
    "print(f\"{minutes} minutes is equal to {hours} hours.\")\n"
   ]
  },
  {
   "cell_type": "markdown",
   "id": "ef11c767-f7f9-46fb-aecb-32844beabaae",
   "metadata": {},
   "source": [
    "## Author\n",
    "\n",
    "Tarek Adly"
   ]
  },
  {
   "cell_type": "code",
   "execution_count": null,
   "id": "64168efb-d757-4c87-871f-59c67dca15c6",
   "metadata": {},
   "outputs": [],
   "source": []
  }
 ],
 "metadata": {
  "kernelspec": {
   "display_name": "Python 3 (ipykernel)",
   "language": "python",
   "name": "python3"
  },
  "language_info": {
   "codemirror_mode": {
    "name": "ipython",
    "version": 3
   },
   "file_extension": ".py",
   "mimetype": "text/x-python",
   "name": "python",
   "nbconvert_exporter": "python",
   "pygments_lexer": "ipython3",
   "version": "3.12.7"
  }
 },
 "nbformat": 4,
 "nbformat_minor": 5
}
